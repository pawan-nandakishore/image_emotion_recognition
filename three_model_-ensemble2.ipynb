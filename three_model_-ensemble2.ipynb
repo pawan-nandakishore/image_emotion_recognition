{
  "nbformat": 4,
  "nbformat_minor": 0,
  "metadata": {
    "colab": {
      "name": "Copy of Untitled",
      "provenance": [],
      "machine_shape": "hm",
      "mount_file_id": "https://github.com/pawan-nandakishore/image_emotion_recognition/blob/master/colab_notebooks/test_nb.ipynb",
      "authorship_tag": "ABX9TyOoRMGoCHWsV8ZkJVVXadG2",
      "include_colab_link": true
    },
    "kernelspec": {
      "name": "python3",
      "display_name": "Python 3"
    },
    "accelerator": "GPU"
  },
  "cells": [
    {
      "cell_type": "markdown",
      "metadata": {
        "id": "view-in-github",
        "colab_type": "text"
      },
      "source": [
        "<a href=\"https://colab.research.google.com/github/pawan-nandakishore/image_emotion_recognition/blob/master/three_model_-ensemble2.ipynb\" target=\"_parent\"><img src=\"https://colab.research.google.com/assets/colab-badge.svg\" alt=\"Open In Colab\"/></a>"
      ]
    },
    {
      "cell_type": "code",
      "metadata": {
        "id": "T0or5NdyMylK",
        "colab_type": "code",
        "colab": {
          "base_uri": "https://localhost:8080/",
          "height": 34
        },
        "outputId": "e863dcf4-e9f1-4ef1-b5cc-a2437cf97f89"
      },
      "source": [
        "import matplotlib.pyplot as plt\n",
        "import pandas as pd\n",
        "import numpy as np\n",
        "from sklearn.metrics import accuracy_score\n",
        "import tensorflow as tf\n",
        "from tensorflow.keras.layers import *\n",
        "from tensorflow.python.lib.io import file_io\n",
        "from skimage.transform import rescale, resize\n",
        "\n",
        "physical_devices = tf.config.experimental.list_physical_devices('GPU')\n",
        "if physical_devices:\n",
        "    tf.config.experimental.set_memory_growth(physical_devices[0], True)\n",
        "\n",
        "print(physical_devices)"
      ],
      "execution_count": null,
      "outputs": [
        {
          "output_type": "stream",
          "text": [
            "[PhysicalDevice(name='/physical_device:GPU:0', device_type='GPU')]\n"
          ],
          "name": "stdout"
        }
      ]
    },
    {
      "cell_type": "code",
      "metadata": {
        "id": "Q3e1Mj7tQ15R",
        "colab_type": "code",
        "colab": {
          "base_uri": "https://localhost:8080/",
          "height": 122
        },
        "outputId": "4c5aa2d9-3d03-4714-d648-d289d80cf7b9"
      },
      "source": [
        "from google.colab import drive\n",
        "drive.mount('/content/drive')"
      ],
      "execution_count": null,
      "outputs": [
        {
          "output_type": "stream",
          "text": [
            "Go to this URL in a browser: https://accounts.google.com/o/oauth2/auth?client_id=947318989803-6bn6qk8qdgf4n4g3pfee6491hc0brc4i.apps.googleusercontent.com&redirect_uri=urn%3aietf%3awg%3aoauth%3a2.0%3aoob&scope=email%20https%3a%2f%2fwww.googleapis.com%2fauth%2fdocs.test%20https%3a%2f%2fwww.googleapis.com%2fauth%2fdrive%20https%3a%2f%2fwww.googleapis.com%2fauth%2fdrive.photos.readonly%20https%3a%2f%2fwww.googleapis.com%2fauth%2fpeopleapi.readonly&response_type=code\n",
            "\n",
            "Enter your authorization code:\n",
            "··········\n",
            "Mounted at /content/drive\n"
          ],
          "name": "stdout"
        }
      ]
    },
    {
      "cell_type": "markdown",
      "metadata": {
        "id": "Q4xTUVfHP2hP",
        "colab_type": "text"
      },
      "source": [
        "\n",
        "From Turker's ensemble training it seems like the top three models are:\n",
        "\n",
        " - ResNet-BEST-73.2.h5 : 73.5 % <br>\n",
        " - RESNET50-AUX-BEST-72.7.h5:  72.5 % <br>\n",
        " - SENET50-AUX-BEST-72.5.h5: 72.5 % \n",
        "The attempt will be to combine these three models and see what type of accuracies one can get."
      ]
    },
    {
      "cell_type": "code",
      "metadata": {
        "id": "wfCQilOGP9U3",
        "colab_type": "code",
        "colab": {}
      },
      "source": [
        "\n",
        "# Function that reads the data from the csv file, increases the size of the images and returns the images and their labels\n",
        "# dataset: Data path\n",
        "IMAGE_SIZE = 48\n",
        "\n",
        "def get_data(dataset):\n",
        "    \n",
        "    file_stream = file_io.FileIO(dataset, mode='r')\n",
        "    data = pd.read_csv(file_stream)\n",
        "    data[' pixels'] = data[' pixels'].apply(lambda x: [int(pixel) for pixel in x.split()])\n",
        "    X, Y = data[' pixels'].tolist(), data['emotion'].values\n",
        "    X = np.array(X, dtype='float32').reshape(-1,IMAGE_SIZE, IMAGE_SIZE,1)\n",
        "    X = X/255.0\n",
        "   \n",
        "    X_res = np.zeros((X.shape[0], Resize_pixelsize,Resize_pixelsize,3))\n",
        "    for ind in range(X.shape[0]): \n",
        "        sample = X[ind]\n",
        "        sample = sample.reshape(IMAGE_SIZE, IMAGE_SIZE)\n",
        "        image_resized = resize(sample, (Resize_pixelsize, Resize_pixelsize), anti_aliasing=True)\n",
        "        X_res[ind,:,:,:] = image_resized.reshape(Resize_pixelsize,Resize_pixelsize,1)\n",
        "\n",
        "    Y_res = np.zeros((Y.size, 7))\n",
        "    Y_res[np.arange(Y.size),Y] = 1    \n",
        "    \n",
        "    return  X, X_res, Y_res"
      ],
      "execution_count": null,
      "outputs": []
    },
    {
      "cell_type": "code",
      "metadata": {
        "id": "-hsrzMOCR2cF",
        "colab_type": "code",
        "colab": {}
      },
      "source": [
        "Resize_pixelsize = 197\n",
        "\n",
        "dev_dataset_dir = '/content/drive/My Drive/Personal projects/emotion_recognition_paper/data/fer_csv/dev.csv'\n",
        "test_dataset_dir = '/content/drive/My Drive/Personal projects/emotion_recognition_paper/data/fer_csv/test.csv'\n",
        "\n",
        "X_dev, X_res_dev, Y_dev   = get_data(dev_dataset_dir)\n",
        "X_test, X_res_test, Y_test   = get_data(test_dataset_dir)\n"
      ],
      "execution_count": null,
      "outputs": []
    },
    {
      "cell_type": "markdown",
      "metadata": {
        "id": "8jjdFX6tTm5R",
        "colab_type": "text"
      },
      "source": [
        "## Model 1: ACC 72.5%"
      ]
    },
    {
      "cell_type": "code",
      "metadata": {
        "id": "-BsnKbpjQEHr",
        "colab_type": "code",
        "colab": {}
      },
      "source": [
        "Senet_model_AUX = tf.keras.models.load_model('/content/drive/My Drive/Personal projects/emotion_recognition_paper/models/SENET50-AUX-BEST-72.5.h5')\n"
      ],
      "execution_count": null,
      "outputs": []
    },
    {
      "cell_type": "code",
      "metadata": {
        "id": "rBVci8HPUTxw",
        "colab_type": "code",
        "colab": {
          "base_uri": "https://localhost:8080/",
          "height": 153
        },
        "outputId": "cd8cc471-7003-44fd-b1dd-6489652e164e"
      },
      "source": [
        "print('\\n# Evaluate on dev data')\n",
        "results_dev =Senet_model_AUX.evaluate(X_res_dev,Y_dev)\n",
        "print('dev loss, dev acc:', results_dev)\n",
        "\n",
        "print('\\n# Evaluate on test data')\n",
        "results_test = Senet_model_AUX.evaluate(X_res_test,Y_test)\n",
        "print('test loss, test acc:', results_test)\n"
      ],
      "execution_count": null,
      "outputs": [
        {
          "output_type": "stream",
          "text": [
            "\n",
            "# Evaluate on dev data\n",
            "113/113 [==============================] - 6s 54ms/step - loss: 2.0713 - accuracy: 0.7108\n",
            "dev loss, dev acc: [2.07125186920166, 0.7107829451560974]\n",
            "\n",
            "# Evaluate on test data\n",
            "113/113 [==============================] - 6s 53ms/step - loss: 1.8851 - accuracy: 0.7219\n",
            "test loss, test acc: [1.8850795030593872, 0.7219281196594238]\n"
          ],
          "name": "stdout"
        }
      ]
    },
    {
      "cell_type": "markdown",
      "metadata": {
        "id": "gqQwjwg2XE28",
        "colab_type": "text"
      },
      "source": [
        "## Model 2: ACC 73.2%"
      ]
    },
    {
      "cell_type": "code",
      "metadata": {
        "id": "rVUlnnmQWNBv",
        "colab_type": "code",
        "colab": {}
      },
      "source": [
        "Resnet_model = tf.keras.models.load_model('/content/drive/My Drive/Personal projects/emotion_recognition_paper/models/ResNet-BEST-73.2.h5')"
      ],
      "execution_count": null,
      "outputs": []
    },
    {
      "cell_type": "code",
      "metadata": {
        "id": "Sgrj1HyyWP2p",
        "colab_type": "code",
        "colab": {
          "base_uri": "https://localhost:8080/",
          "height": 153
        },
        "outputId": "610da938-df10-43a8-8c49-a031b2bb3723"
      },
      "source": [
        "print('\\n# Evaluate on dev data')\n",
        "results_dev = Resnet_model.evaluate(X_res_dev,Y_dev)\n",
        "print('dev loss, dev acc:', results_dev)\n",
        "\n",
        "print('\\n# Evaluate on test data')\n",
        "results_test = Resnet_model.evaluate(X_res_test,Y_test)\n",
        "print('test loss, test acc:', results_test)"
      ],
      "execution_count": null,
      "outputs": [
        {
          "output_type": "stream",
          "text": [
            "\n",
            "# Evaluate on dev data\n",
            "113/113 [==============================] - 5s 42ms/step - loss: 1.0431 - accuracy: 0.6960\n",
            "dev loss, dev acc: [1.0430926084518433, 0.6960155963897705]\n",
            "\n",
            "# Evaluate on test data\n",
            "113/113 [==============================] - 5s 42ms/step - loss: 0.9164 - accuracy: 0.7322\n",
            "test loss, test acc: [0.9163703322410583, 0.7322373986244202]\n"
          ],
          "name": "stdout"
        }
      ]
    },
    {
      "cell_type": "markdown",
      "metadata": {
        "id": "YRe12o9dXMBE",
        "colab_type": "text"
      },
      "source": [
        "## Model 3: ACC 72.7%"
      ]
    },
    {
      "cell_type": "code",
      "metadata": {
        "id": "HG7L3WL5XX7A",
        "colab_type": "code",
        "colab": {}
      },
      "source": [
        "Resnet_model_AUX = tf.keras.models.load_model('/content/drive/My Drive/Personal projects/emotion_recognition_paper/models/RESNET50-AUX-BEST-72.7.h5')"
      ],
      "execution_count": null,
      "outputs": []
    },
    {
      "cell_type": "code",
      "metadata": {
        "id": "TwAlE4uHXpxB",
        "colab_type": "code",
        "colab": {
          "base_uri": "https://localhost:8080/",
          "height": 153
        },
        "outputId": "f0e0f08f-14a8-4c84-988d-dfb0551fde5e"
      },
      "source": [
        "print('\\n# Evaluate on dev data')\n",
        "results_dev = Resnet_model_AUX.evaluate(X_res_dev,Y_dev)\n",
        "print('dev loss, dev acc:', results_dev)\n",
        "\n",
        "print('\\n# Evaluate on test data')\n",
        "results_test = Resnet_model_AUX.evaluate(X_res_test,Y_test)\n",
        "print('test loss, test acc:', results_test)"
      ],
      "execution_count": null,
      "outputs": [
        {
          "output_type": "stream",
          "text": [
            "\n",
            "# Evaluate on dev data\n",
            "113/113 [==============================] - 5s 42ms/step - loss: 0.8615 - accuracy: 0.7074\n",
            "dev loss, dev acc: [0.861474335193634, 0.7074394226074219]\n",
            "\n",
            "# Evaluate on test data\n",
            "113/113 [==============================] - 5s 42ms/step - loss: 0.8027 - accuracy: 0.7194\n",
            "test loss, test acc: [0.8026625514030457, 0.7194204330444336]\n"
          ],
          "name": "stdout"
        }
      ]
    },
    {
      "cell_type": "code",
      "metadata": {
        "id": "Hgy-dRl_XtAf",
        "colab_type": "code",
        "colab": {}
      },
      "source": [
        "# make an ensemble prediction for multi-class classification\n",
        "def ensemble_predictions( testX, models_TL, testresX):\n",
        "    # make predictions\n",
        "    yhats = np.zeros((len(models_TL),testX.shape[0],7))\n",
        "\n",
        "    for model_ind in range(len(models_TL)):\n",
        "        yhat = models_TL[model_ind].predict(testresX)\n",
        "        yhats[model_ind,:,:] = yhat\n",
        "\n",
        "    summed = np.sum(yhats, axis=0)\n",
        "    result = np.argmax(summed, axis=1)\n",
        "    return result\n",
        " \n",
        "# evaluate a specific number of members in an ensemble\n",
        "def evaluate_n_members(testX, models_TL, testresX, testy):\n",
        "    # select a subset of members\n",
        "    #subset = members[:n_members]\n",
        "    #print(len(subset))\n",
        "    # make prediction\n",
        "    yhat = ensemble_predictions(testX, models_TL, testresX)\n",
        "    # calculate accuracy\n",
        "    return accuracy_score(testy, yhat)"
      ],
      "execution_count": null,
      "outputs": []
    },
    {
      "cell_type": "code",
      "metadata": {
        "id": "Ze0e6Ld9YIuT",
        "colab_type": "code",
        "colab": {
          "base_uri": "https://localhost:8080/",
          "height": 34
        },
        "outputId": "bb48ea7f-1479-45e3-9b87-35f7593053d4"
      },
      "source": [
        "models_TL = [Resnet_model, Resnet_model_AUX, Senet_model_AUX]\n",
        "\n",
        "ens_acc = evaluate_n_members(X_test, models_TL, X_res_test, np.argmax(Y_test, axis=1))\n",
        "print(ens_acc)\n"
      ],
      "execution_count": null,
      "outputs": [
        {
          "output_type": "stream",
          "text": [
            "0.7509055447199777\n"
          ],
          "name": "stdout"
        }
      ]
    },
    {
      "cell_type": "code",
      "metadata": {
        "id": "l57e-KOwaFQ5",
        "colab_type": "code",
        "colab": {}
      },
      "source": [
        ""
      ],
      "execution_count": null,
      "outputs": []
    }
  ]
}