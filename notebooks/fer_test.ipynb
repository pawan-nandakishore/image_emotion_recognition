{
 "cells": [
  {
   "cell_type": "code",
   "execution_count": 1,
   "metadata": {},
   "outputs": [],
   "source": [
    "\n",
    "import tensorflow as tf\n",
    "import numpy as np \n",
    "import os "
   ]
  },
  {
   "cell_type": "code",
   "execution_count": 2,
   "metadata": {},
   "outputs": [],
   "source": [
    "raw_data = \"../data/raw/\"\n",
    "train_location = os.path.join(raw_data,'train/')\n",
    "\n",
    "AUTOTUNE = tf.data.experimental.AUTOTUNE\n",
    "list_ds = tf.data.Dataset.list_files(\"../data/raw/train/*/*\", seed=1)\n",
    "class_ds = tf.data.Dataset.list_files(\"../data/raw/train/*\", seed=1)\n",
    "\n",
    "CLASS_NAMES = [str(x).split('/')[-1].strip(\"'\").split(\" \")[-1] for x in list(class_ds.as_numpy_iterator())]\n",
    "IMG_HEIGHT = 32\n",
    "IMG_WIDTH = 32\n"
   ]
  },
  {
   "cell_type": "code",
   "execution_count": 3,
   "metadata": {},
   "outputs": [
    {
     "name": "stdout",
     "output_type": "stream",
     "text": [
      "b'../data/raw/train/3 happy/happy-010168.png'\n",
      "b'../data/raw/train/3 happy/happy-012129.png'\n",
      "b'../data/raw/train/3 happy/happy-000239.png'\n",
      "b'../data/raw/train/5 surprise/surprise-006716.png'\n",
      "b'../data/raw/train/3 happy/happy-027498.png'\n"
     ]
    }
   ],
   "source": [
    "for f in list_ds.take(5):\n",
    "  print(f.numpy())\n"
   ]
  },
  {
   "cell_type": "code",
   "execution_count": 4,
   "metadata": {},
   "outputs": [
    {
     "name": "stdout",
     "output_type": "stream",
     "text": [
      "Image shape:  (32, 32, 3)\n",
      "Label:  b'Tensor(\"strided_slice_1:0\", shape=(), dtype=string)'\n"
     ]
    }
   ],
   "source": [
    "\n",
    "def get_label(file_path):\n",
    "  # convert the path to a list of path components\n",
    "    parts = tf.strings.split(file_path, os.path.sep)\n",
    "  # The second to last is the class-directory\n",
    "    label = str(tf.strings.split(parts[-2],\" \")[-1])\n",
    "    return label \n",
    "\n",
    "\n",
    "def decode_img(img):\n",
    "  # convert the compressed string to a 3D uint8 tensor\n",
    "  img = tf.image.decode_png(img, channels=3)\n",
    "  # Use `convert_image_dtype` to convert to floats in the [0,1] range.\n",
    "  img = tf.image.convert_image_dtype(img, tf.float32)\n",
    "  # resize the image to the desired size.\n",
    "  return tf.image.resize(img, [IMG_HEIGHT, IMG_WIDTH])\n",
    "\n",
    "def process_path(file_path):\n",
    "    label = get_label(file_path)\n",
    "  # load the raw data from the file as a string\n",
    "    img = tf.io.read_file(file_path)\n",
    "    img = decode_img(img)\n",
    "    return img, label\n",
    "\n",
    "\n",
    "\n",
    "\n",
    "# Set `num_parallel_calls` so multiple images are loaded/processed in parallel.\n",
    "labeled_ds = list_ds.map(process_path, num_parallel_calls=AUTOTUNE)\n",
    "\n",
    "\n",
    "\n",
    "for image, label in labeled_ds.take(1):\n",
    "  print(\"Image shape: \", image.numpy().shape)\n",
    "  print(\"Label: \", label.numpy())\n"
   ]
  },
  {
   "cell_type": "code",
   "execution_count": 5,
   "metadata": {},
   "outputs": [
    {
     "data": {
      "text/plain": [
       "(\"tf.Tensor(b'happy', shape=(), dtype=string)\",\n",
       " <tf.Tensor: shape=(), dtype=string, numpy=b'../data/raw/train/3 happy/happy-018607.png'>)"
      ]
     },
     "execution_count": 5,
     "metadata": {},
     "output_type": "execute_result"
    }
   ],
   "source": [
    "\n",
    "# single example \n",
    "single_image = list(list_ds.take(5))[0] \n",
    "get_label(single_image.numpy()), single_image"
   ]
  },
  {
   "cell_type": "code",
   "execution_count": null,
   "metadata": {},
   "outputs": [],
   "source": []
  },
  {
   "cell_type": "code",
   "execution_count": null,
   "metadata": {},
   "outputs": [],
   "source": []
  }
 ],
 "metadata": {
  "kernelspec": {
   "display_name": "Python 3",
   "language": "python",
   "name": "python3"
  },
  "language_info": {
   "codemirror_mode": {
    "name": "ipython",
    "version": 3
   },
   "file_extension": ".py",
   "mimetype": "text/x-python",
   "name": "python",
   "nbconvert_exporter": "python",
   "pygments_lexer": "ipython3",
   "version": "3.6.9"
  }
 },
 "nbformat": 4,
 "nbformat_minor": 4
}
