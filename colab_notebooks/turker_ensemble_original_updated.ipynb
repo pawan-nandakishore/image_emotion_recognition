{
  "nbformat": 4,
  "nbformat_minor": 0,
  "metadata": {
    "accelerator": "GPU",
    "colab": {
      "name": "turker_ensemble_original.ipynb",
      "provenance": [],
      "collapsed_sections": [],
      "machine_shape": "hm",
      "include_colab_link": true
    },
    "kernelspec": {
      "name": "python3",
      "display_name": "Python 3"
    }
  },
  "cells": [
    {
      "cell_type": "markdown",
      "metadata": {
        "id": "view-in-github",
        "colab_type": "text"
      },
      "source": [
        "<a href=\"https://colab.research.google.com/github/pawan-nandakishore/image_emotion_recognition/blob/master/colab_notebooks/turker_ensemble_original_updated.ipynb\" target=\"_parent\"><img src=\"https://colab.research.google.com/assets/colab-badge.svg\" alt=\"Open In Colab\"/></a>"
      ]
    },
    {
      "cell_type": "code",
      "metadata": {
        "id": "cVbLZURCveTi",
        "colab_type": "code",
        "colab": {
          "base_uri": "https://localhost:8080/",
          "height": 34
        },
        "outputId": "a2602912-011b-437e-e7e2-1c3fa056e78f"
      },
      "source": [
        "%tensorflow_version 1.x"
      ],
      "execution_count": null,
      "outputs": [
        {
          "output_type": "stream",
          "text": [
            "TensorFlow 1.x selected.\n"
          ],
          "name": "stdout"
        }
      ]
    },
    {
      "cell_type": "code",
      "metadata": {
        "colab_type": "code",
        "id": "2nz38mJZXN_P",
        "colab": {
          "base_uri": "https://localhost:8080/",
          "height": 34
        },
        "outputId": "747d37a5-a8d3-4709-f209-50a6653988ba"
      },
      "source": [
        "import matplotlib.pyplot as plt\n",
        "import pandas as pd\n",
        "import numpy as np\n",
        "\n",
        "import tensorflow as tf\n",
        "from tensorflow.keras.layers import *\n",
        "from tensorflow.python.lib.io import file_io\n",
        "\n",
        "%matplotlib inline\n",
        "\n",
        "import keras\n",
        "from keras import backend as K\n",
        "from keras.callbacks import ModelCheckpoint, EarlyStopping\n",
        "from keras.models import load_model\n",
        "from keras.preprocessing.image import ImageDataGenerator\n",
        "from keras.utils import plot_model\n",
        "from sklearn.metrics import *\n",
        "from keras.engine import Model\n",
        "from keras.layers import Input, Flatten, Dense, Activation, Conv2D, MaxPool2D, BatchNormalization, Dropout, MaxPooling2D\n",
        "import skimage\n",
        "from skimage.transform import rescale, resize"
      ],
      "execution_count": null,
      "outputs": [
        {
          "output_type": "stream",
          "text": [
            "Using TensorFlow backend.\n"
          ],
          "name": "stderr"
        }
      ]
    },
    {
      "cell_type": "code",
      "metadata": {
        "colab_type": "code",
        "id": "EjKPXZ3TX3Jb",
        "colab": {
          "base_uri": "https://localhost:8080/",
          "height": 54
        },
        "outputId": "61e6631e-7dcb-42ae-fc19-a9aa4a3dd001"
      },
      "source": [
        "from google.colab import drive\n",
        "drive.mount('/content/drive')"
      ],
      "execution_count": null,
      "outputs": [
        {
          "output_type": "stream",
          "text": [
            "Drive already mounted at /content/drive; to attempt to forcibly remount, call drive.mount(\"/content/drive\", force_remount=True).\n"
          ],
          "name": "stdout"
        }
      ]
    },
    {
      "cell_type": "code",
      "metadata": {
        "id": "l2DlU8lZeOg7",
        "colab_type": "code",
        "colab": {}
      },
      "source": [
        "Resize_pixelsize = 197"
      ],
      "execution_count": null,
      "outputs": []
    },
    {
      "cell_type": "code",
      "metadata": {
        "id": "xSJv4GKReUwb",
        "colab_type": "code",
        "colab": {}
      },
      "source": [
        "# Function that reads the data from the csv file, increases the size of the images and returns the images and their labels\n",
        "    # dataset: Data path\n",
        "def get_data(dataset):\n",
        "    \n",
        "    file_stream = file_io.FileIO(dataset, mode='r')\n",
        "    data = pd.read_csv(file_stream)\n",
        "    data[' pixels'] = data[' pixels'].apply(lambda x: [int(pixel) for pixel in x.split()])\n",
        "    X, Y = data[' pixels'].tolist(), data['emotion'].values\n",
        "    X = np.array(X, dtype='float32').reshape(-1,48,48,1)\n",
        "    X = X/255.0\n",
        "   \n",
        "    X_res = np.zeros((X.shape[0], Resize_pixelsize,Resize_pixelsize,3))\n",
        "    for ind in range(X.shape[0]): \n",
        "        sample = X[ind]\n",
        "        sample = sample.reshape(48, 48)\n",
        "        image_resized = resize(sample, (Resize_pixelsize, Resize_pixelsize), anti_aliasing=True)\n",
        "        X_res[ind,:,:,:] = image_resized.reshape(Resize_pixelsize,Resize_pixelsize,1)\n",
        "\n",
        "    Y_res = np.zeros((Y.size, 7))\n",
        "    Y_res[np.arange(Y.size),Y] = 1    \n",
        "    \n",
        "    return  X, X_res, Y_res"
      ],
      "execution_count": null,
      "outputs": []
    },
    {
      "cell_type": "code",
      "metadata": {
        "id": "j8FT39NZgDHP",
        "colab_type": "code",
        "colab": {}
      },
      "source": [
        "local_path = \"/content/drive/My Drive/Personal projects/emotion_recognition_paper/data/fer_csv/\"\n",
        "dev_dataset_dir = local_path +\"dev.csv\"\n",
        "test_dataset_dir = local_path + \"test.csv\"\n",
        "\n",
        "X_dev, X_res_dev, Y_dev   = get_data(dev_dataset_dir)\n",
        "X_test, X_res_test, Y_test   = get_data(test_dataset_dir)\n"
      ],
      "execution_count": null,
      "outputs": []
    },
    {
      "cell_type": "code",
      "metadata": {
        "id": "XmmvoAzOgQl4",
        "colab_type": "code",
        "colab": {
          "base_uri": "https://localhost:8080/",
          "height": 156
        },
        "outputId": "594df894-9e50-4a97-c754-da3e37000094"
      },
      "source": [
        "model = load_model('/content/drive/My Drive//Personal projects/emotion_recognition_paper/cs230 project/models/soa-SGD_LR_0.01000-EPOCHS_300-BS_128-DROPOUT_0.3test_acc_0.663.h5')"
      ],
      "execution_count": null,
      "outputs": [
        {
          "output_type": "stream",
          "text": [
            "WARNING:tensorflow:From /tensorflow-1.15.2/python3.6/tensorflow_core/python/ops/resource_variable_ops.py:1630: calling BaseResourceVariable.__init__ (from tensorflow.python.ops.resource_variable_ops) with constraint is deprecated and will be removed in a future version.\n",
            "Instructions for updating:\n",
            "If using Keras pass *_constraint arguments to layers.\n",
            "WARNING:tensorflow:From /tensorflow-1.15.2/python3.6/keras/backend/tensorflow_backend.py:4070: The name tf.nn.max_pool is deprecated. Please use tf.nn.max_pool2d instead.\n",
            "\n",
            "WARNING:tensorflow:From /tensorflow-1.15.2/python3.6/keras/backend/tensorflow_backend.py:422: The name tf.global_variables is deprecated. Please use tf.compat.v1.global_variables instead.\n",
            "\n"
          ],
          "name": "stdout"
        }
      ]
    },
    {
      "cell_type": "code",
      "metadata": {
        "id": "ABbKc8-Eq64L",
        "colab_type": "code",
        "colab": {
          "base_uri": "https://localhost:8080/",
          "height": 153
        },
        "outputId": "b1cae7c9-30ac-4507-e670-b016338cdc0c"
      },
      "source": [
        "print('\\n# Evaluate on dev data')\n",
        "results_dev = model.evaluate(X_dev,Y_dev)\n",
        "print('dev loss, dev acc:', results_dev)\n",
        "\n",
        "print('\\n# Evaluate on test data')\n",
        "results_test = model.evaluate(X_test,Y_test)\n",
        "print('test loss, test acc:', results_test)"
      ],
      "execution_count": null,
      "outputs": [
        {
          "output_type": "stream",
          "text": [
            "\n",
            "# Evaluate on dev data\n",
            "3589/3589 [==============================] - 2s 540us/step\n",
            "dev loss, dev acc: [1.0376123519088605, 0.6363889575004578]\n",
            "\n",
            "# Evaluate on test data\n",
            "3589/3589 [==============================] - 0s 86us/step\n",
            "test loss, test acc: [0.9683621032020779, 0.6631373763084412]\n"
          ],
          "name": "stdout"
        }
      ]
    },
    {
      "cell_type": "code",
      "metadata": {
        "id": "ED86bdWtpdCL",
        "colab_type": "code",
        "colab": {
          "base_uri": "https://localhost:8080/",
          "height": 153
        },
        "outputId": "21c5e36a-7036-4d6b-e793-b06957d58f74"
      },
      "source": [
        "model2 = load_model('/content/drive/My Drive/Personal projects/emotion_recognition_paper/cs230 project/models/soa-SGD_LR_0.01000-EPOCHS_300-BS_128-DROPOUT_0.4test_acc_0.657.h5')\n",
        "print('\\n# Evaluate on dev data')\n",
        "results_dev = model2.evaluate(X_dev,Y_dev)\n",
        "print('dev loss, dev acc:', results_dev)\n",
        "\n",
        "print('\\n# Evaluate on test data')\n",
        "results_test = model2.evaluate(X_test,Y_test)\n",
        "print('test loss, test acc:', results_test)"
      ],
      "execution_count": null,
      "outputs": [
        {
          "output_type": "stream",
          "text": [
            "\n",
            "# Evaluate on dev data\n",
            "3589/3589 [==============================] - 0s 107us/step\n",
            "dev loss, dev acc: [1.0297002102146908, 0.6514349579811096]\n",
            "\n",
            "# Evaluate on test data\n",
            "3589/3589 [==============================] - 0s 86us/step\n",
            "test loss, test acc: [0.9837394588403497, 0.6567289233207703]\n"
          ],
          "name": "stdout"
        }
      ]
    },
    {
      "cell_type": "code",
      "metadata": {
        "id": "Wtkh5xsNvbBG",
        "colab_type": "code",
        "colab": {
          "base_uri": "https://localhost:8080/",
          "height": 207
        },
        "outputId": "99160183-5cf6-456e-a2f7-ae2e1b112185"
      },
      "source": [
        "Resnet_model = load_model('/content/drive/My Drive/Personal projects/emotion_recognition_paper/cs230 project/models/tl/ResNet-BEST-73.2.h5')\n",
        "print('\\n# Evaluate on dev data')\n",
        "results_dev = Resnet_model.evaluate(X_res_dev,Y_dev)\n",
        "print('dev loss, dev acc:', results_dev)\n",
        "\n",
        "print('\\n# Evaluate on test data')\n",
        "results_test = Resnet_model.evaluate(X_res_test,Y_test)\n",
        "print('test loss, test acc:', results_test)"
      ],
      "execution_count": null,
      "outputs": [
        {
          "output_type": "stream",
          "text": [
            "WARNING:tensorflow:From /tensorflow-1.15.2/python3.6/keras/backend/tensorflow_backend.py:4074: The name tf.nn.avg_pool is deprecated. Please use tf.nn.avg_pool2d instead.\n",
            "\n",
            "\n",
            "# Evaluate on dev data\n",
            "3589/3589 [==============================] - 9s 2ms/step\n",
            "dev loss, dev acc: [1.0430927035469104, 0.6960155963897705]\n",
            "\n",
            "# Evaluate on test data\n",
            "3589/3589 [==============================] - 8s 2ms/step\n",
            "test loss, test acc: [0.9163703466730551, 0.7322373986244202]\n"
          ],
          "name": "stdout"
        }
      ]
    },
    {
      "cell_type": "code",
      "metadata": {
        "id": "7fNpbezx0lek",
        "colab_type": "code",
        "colab": {
          "base_uri": "https://localhost:8080/",
          "height": 153
        },
        "outputId": "68b8c5b6-cd82-47e5-d27a-78be33180725"
      },
      "source": [
        "Resnet_model_wcw = load_model('/content/drive/My Drive/Personal projects/emotion_recognition_paper/cs230 project/models/tl/ResNet-BEST-WCW-0.677.h5')\n",
        "print('\\n# Evaluate on dev data')\n",
        "results_dev = Resnet_model_wcw.evaluate(X_res_dev,Y_dev)\n",
        "print('dev loss, dev acc:', results_dev)\n",
        "\n",
        "print('\\n# Evaluate on test data')\n",
        "results_test = Resnet_model_wcw.evaluate(X_res_test,Y_test)\n",
        "print('test loss, test acc:', results_test)"
      ],
      "execution_count": null,
      "outputs": [
        {
          "output_type": "stream",
          "text": [
            "\n",
            "# Evaluate on dev data\n",
            "3589/3589 [==============================] - 9s 2ms/step\n",
            "dev loss, dev acc: [1.234229718145802, 0.669824481010437]\n",
            "\n",
            "# Evaluate on test data\n",
            "3589/3589 [==============================] - 8s 2ms/step\n",
            "test loss, test acc: [1.1438238001128829, 0.676790177822113]\n"
          ],
          "name": "stdout"
        }
      ]
    },
    {
      "cell_type": "code",
      "metadata": {
        "id": "opo1eF3swqme",
        "colab_type": "code",
        "colab": {}
      },
      "source": [
        "# Senet_model = load_model('/content/drive/My Drive/cs230 project/models/tl/SeNet50-BEST-69.8.h5')\n",
        "# print('\\n# Evaluate on dev data')\n",
        "# results_dev = Senet_model.evaluate(X_res_dev,Y_dev)\n",
        "# print('dev loss, dev acc:', results_dev)\n",
        "\n",
        "# print('\\n# Evaluate on test data')\n",
        "# results_test = Senet_model.evaluate(X_res_test,Y_test)\n",
        "# print('test loss, test acc:', results_test)"
      ],
      "execution_count": null,
      "outputs": []
    },
    {
      "cell_type": "code",
      "metadata": {
        "id": "1bCigzO42FBP",
        "colab_type": "code",
        "colab": {
          "base_uri": "https://localhost:8080/",
          "height": 153
        },
        "outputId": "3e23d36b-da35-4203-d18f-cebf63a43b3f"
      },
      "source": [
        "Senet_model_wcw = load_model('/content/drive/My Drive/Personal projects/emotion_recognition_paper/cs230 project/models/tl/SeNet50-WCW-BEST-68.9.h5')\n",
        "print('\\n# Evaluate on dev data')\n",
        "results_dev = Senet_model_wcw.evaluate(X_res_dev,Y_dev)\n",
        "print('dev loss, dev acc:', results_dev)\n",
        "\n",
        "print('\\n# Evaluate on test data')\n",
        "results_test = Senet_model_wcw.evaluate(X_res_test,Y_test)\n",
        "print('test loss, test acc:', results_test)"
      ],
      "execution_count": null,
      "outputs": [
        {
          "output_type": "stream",
          "text": [
            "\n",
            "# Evaluate on dev data\n",
            "3589/3589 [==============================] - 10s 3ms/step\n",
            "dev loss, dev acc: [1.1761809358127804, 0.6831986904144287]\n",
            "\n",
            "# Evaluate on test data\n",
            "3589/3589 [==============================] - 9s 2ms/step\n",
            "test loss, test acc: [1.0997743903345036, 0.6893284916877747]\n"
          ],
          "name": "stdout"
        }
      ]
    },
    {
      "cell_type": "code",
      "metadata": {
        "id": "WDEz8VZ3CfGO",
        "colab_type": "code",
        "colab": {}
      },
      "source": [
        "# VGG100_model = load_model('/content/drive/My Drive/cs230 project/models/tl/VGG-BEST-69.5.h5')\n",
        "# print('\\n# Evaluate on dev data')\n",
        "# results_dev = VGG100_model.evaluate(X_res_dev,Y_dev)\n",
        "# print('dev loss, dev acc:', results_dev)\n",
        "\n",
        "# print('\\n# Evaluate on test data')\n",
        "# results_test = VGG100_model.evaluate(X_res_test,Y_test)\n",
        "# print('test loss, test acc:', results_test)"
      ],
      "execution_count": null,
      "outputs": []
    },
    {
      "cell_type": "code",
      "metadata": {
        "id": "W5gbMaNNEke3",
        "colab_type": "code",
        "colab": {}
      },
      "source": [
        "# VGG100_model_wcw = load_model(\"/content/drive/My Drive/cs230 project/models/tl/vgg100-WCW-BEST-70.h5\")\n",
        "# print('\\n# Evaluate on dev data')\n",
        "# results_dev = VGG100_model_wcw.evaluate(X_res_dev,Y_dev)\n",
        "# print('dev loss, dev acc:', results_dev)\n",
        "\n",
        "# print('\\n# Evaluate on test data')\n",
        "# results_test = VGG100_model_wcw.evaluate(X_res_test,Y_test)\n",
        "# print('test loss, test acc:', results_test)"
      ],
      "execution_count": null,
      "outputs": []
    },
    {
      "cell_type": "code",
      "metadata": {
        "id": "kGWp8hPnASEr",
        "colab_type": "code",
        "colab": {
          "base_uri": "https://localhost:8080/",
          "height": 153
        },
        "outputId": "a3b8db27-e919-4e76-bf8b-72828c97c6b9"
      },
      "source": [
        "Resnet_Aux_model = load_model(\"/content/drive/My Drive/Personal projects/emotion_recognition_paper/cs230 project/models/auxiliary/RESNET50-AUX-BEST-72.7.h5\")\n",
        "print('\\n# Evaluate on dev data')\n",
        "results_dev = Resnet_Aux_model.evaluate(X_res_dev,Y_dev)\n",
        "print('dev loss, dev acc:', results_dev)\n",
        "\n",
        "print('\\n# Evaluate on test data')\n",
        "results_test = Resnet_Aux_model.evaluate(X_res_test,Y_test)\n",
        "print('test loss, test acc:', results_test)"
      ],
      "execution_count": null,
      "outputs": [
        {
          "output_type": "stream",
          "text": [
            "\n",
            "# Evaluate on dev data\n",
            "3589/3589 [==============================] - 9s 3ms/step\n",
            "dev loss, dev acc: [0.861474073374959, 0.7074394226074219]\n",
            "\n",
            "# Evaluate on test data\n",
            "3589/3589 [==============================] - 8s 2ms/step\n",
            "test loss, test acc: [0.802662629425509, 0.7194204330444336]\n"
          ],
          "name": "stdout"
        }
      ]
    },
    {
      "cell_type": "code",
      "metadata": {
        "id": "7hGURVemBtGU",
        "colab_type": "code",
        "colab": {
          "base_uri": "https://localhost:8080/",
          "height": 153
        },
        "outputId": "d8538e69-d12a-4b67-a5e1-baa9d3730acb"
      },
      "source": [
        "Resnet_Aux_model_wcw = load_model(\"/content/drive/My Drive/Personal projects/emotion_recognition_paper/cs230 project/models/auxiliary/RESNET50-WCW-AUX-BEST-72.4.h5\")\n",
        "print('\\n# Evaluate on dev data')\n",
        "results_dev = Resnet_Aux_model_wcw.evaluate(X_res_dev,Y_dev)\n",
        "print('dev loss, dev acc:', results_dev)\n",
        "\n",
        "print('\\n# Evaluate on test data')\n",
        "results_test = Resnet_Aux_model_wcw.evaluate(X_res_test,Y_test)\n",
        "print('test loss, test acc:', results_test)"
      ],
      "execution_count": null,
      "outputs": [
        {
          "output_type": "stream",
          "text": [
            "\n",
            "# Evaluate on dev data\n",
            "3589/3589 [==============================] - 10s 3ms/step\n",
            "dev loss, dev acc: [0.858198020809638, 0.7035385966300964]\n",
            "\n",
            "# Evaluate on test data\n",
            "3589/3589 [==============================] - 8s 2ms/step\n",
            "test loss, test acc: [0.7959005610296473, 0.7227640151977539]\n"
          ],
          "name": "stdout"
        }
      ]
    },
    {
      "cell_type": "code",
      "metadata": {
        "id": "CQVpy32x_yoV",
        "colab_type": "code",
        "colab": {
          "base_uri": "https://localhost:8080/",
          "height": 153
        },
        "outputId": "0fbbf771-f880-4a09-e470-10dae8ab083c"
      },
      "source": [
        "Senet_Aux_model = load_model('/content/drive/My Drive/Personal projects/emotion_recognition_paper/cs230 project/models/auxiliary/SENET50-AUX-BEST-72.5.h5')\n",
        "print('\\n# Evaluate on dev data')\n",
        "results_dev = Senet_Aux_model.evaluate(X_res_dev,Y_dev)\n",
        "print('dev loss, dev acc:', results_dev)\n",
        "\n",
        "print('\\n# Evaluate on test data')\n",
        "results_test = Senet_Aux_model.evaluate(X_res_test,Y_test)\n",
        "print('test loss, test acc:', results_test)"
      ],
      "execution_count": null,
      "outputs": [
        {
          "output_type": "stream",
          "text": [
            "\n",
            "# Evaluate on dev data\n",
            "3589/3589 [==============================] - 11s 3ms/step\n",
            "dev loss, dev acc: [2.071251667419427, 0.7107829451560974]\n",
            "\n",
            "# Evaluate on test data\n",
            "3589/3589 [==============================] - 9s 2ms/step\n",
            "test loss, test acc: [1.885079555192692, 0.7219281196594238]\n"
          ],
          "name": "stdout"
        }
      ]
    },
    {
      "cell_type": "code",
      "metadata": {
        "id": "G9WhAotjUoa7",
        "colab_type": "code",
        "colab": {
          "base_uri": "https://localhost:8080/",
          "height": 153
        },
        "outputId": "5c83b8ed-f7e3-4780-a3a9-b37cd3ea7d57"
      },
      "source": [
        "Senet_Aux_model_wcw = load_model('/content/drive/My Drive/Personal projects/emotion_recognition_paper/cs230 project/models/auxiliary/SENET50-WCW-AUX-BEST-71.6.h5')\n",
        "print('\\n# Evaluate on dev data')\n",
        "results_dev = Senet_Aux_model_wcw.evaluate(X_res_dev,Y_dev)\n",
        "print('dev loss, dev acc:', results_dev)\n",
        "\n",
        "print('\\n# Evaluate on test data')\n",
        "results_test = Senet_Aux_model_wcw.evaluate(X_res_test,Y_test)\n",
        "print('test loss, test acc:', results_test)"
      ],
      "execution_count": null,
      "outputs": [
        {
          "output_type": "stream",
          "text": [
            "\n",
            "# Evaluate on dev data\n",
            "3589/3589 [==============================] - 11s 3ms/step\n",
            "dev loss, dev acc: [1.9064431680746814, 0.7107829451560974]\n",
            "\n",
            "# Evaluate on test data\n",
            "3589/3589 [==============================] - 9s 2ms/step\n",
            "test loss, test acc: [1.8377275247034437, 0.7099470496177673]\n"
          ],
          "name": "stdout"
        }
      ]
    },
    {
      "cell_type": "code",
      "metadata": {
        "id": "voByce__QNLw",
        "colab_type": "code",
        "colab": {}
      },
      "source": [
        "# !ls \"/content/drive/My Drive/Personal projects/emotion_recognition_paper/cs230 project/models/final/\""
      ],
      "execution_count": null,
      "outputs": []
    },
    {
      "cell_type": "code",
      "metadata": {
        "id": "lfsWIXEbP1Mv",
        "colab_type": "code",
        "colab": {
          "base_uri": "https://localhost:8080/",
          "height": 119
        },
        "outputId": "7897b74c-195d-45d3-84e1-2a2fab42789f"
      },
      "source": [
        "VGG_Aux_model = load_model(\"/content/drive/My Drive/Personal projects/emotion_recognition_paper/cs230 project/models/auxiliary/VGG16-AUX-BEST-70.2.h5\")\n",
        "print('\\n# Evaluate on dev data')\n",
        "results_dev = VGG_Aux_model.evaluate(X_res_dev,Y_dev)\n",
        "print('dev loss, dev acc:', results_dev)\n",
        "\n",
        "print('\\n# Evaluate on test data')\n",
        "results_test = VGG_Aux_model.evaluate(X_res_test,Y_test)\n",
        "print('test loss, test acc:', results_test)\n"
      ],
      "execution_count": null,
      "outputs": [
        {
          "output_type": "stream",
          "text": [
            "3589/3589 [==============================] - 11s 3ms/step\n",
            "dev loss, dev acc: [0.908596164687293, 0.6884925961494446]\n",
            "\n",
            "# Evaluate on test data\n",
            "3589/3589 [==============================] - 9s 2ms/step\n",
            "test loss, test acc: [0.8508083838196178, 0.6929506659507751]\n"
          ],
          "name": "stdout"
        }
      ]
    },
    {
      "cell_type": "code",
      "metadata": {
        "id": "bkG2Ff2ep-R3",
        "colab_type": "code",
        "colab": {}
      },
      "source": [
        "models_SOA = [model, model2]\n",
        "models_TL = [Resnet_model, Resnet_Aux_model_wcw, Senet_Aux_model, Senet_Aux_model_wcw, VGG_Aux_model]"
      ],
      "execution_count": null,
      "outputs": []
    },
    {
      "cell_type": "code",
      "metadata": {
        "id": "EJqnQzpmpHBN",
        "colab_type": "code",
        "colab": {}
      },
      "source": [
        "# make an ensemble prediction for multi-class classification\n",
        "def ensemble_predictions(models_SOA, testX, models_TL, testresX):\n",
        "  # make predictions\n",
        "  yhats = np.zeros((len(models_SOA)+len(models_TL),testX.shape[0],7))\n",
        "\n",
        "  for model_ind in range(len(models_SOA)):\n",
        "    yhat = models_SOA[model_ind].predict(testX)\n",
        "    yhats[model_ind,:,:] = yhat\n",
        "\n",
        "  for model_ind in range(len(models_TL)):\n",
        "    yhat = models_TL[model_ind].predict(testresX)\n",
        "    yhats[len(models_SOA)+model_ind,:,:] = yhat\n",
        "\n",
        "  summed = np.sum(yhats, axis=0)\n",
        "  result = np.argmax(summed, axis=1)\n",
        "  return result\n",
        " \n",
        "# evaluate a specific number of members in an ensemble\n",
        "def evaluate_n_members(models_SOA, testX, models_TL, testresX, testy):\n",
        "\t# select a subset of members\n",
        "\t#subset = members[:n_members]\n",
        "\t#print(len(subset))\n",
        "\t# make prediction\n",
        "\tyhat = ensemble_predictions(models_SOA, testX, models_TL, testresX)\n",
        "\t# calculate accuracy\n",
        "\treturn accuracy_score(testy, yhat)"
      ],
      "execution_count": null,
      "outputs": []
    },
    {
      "cell_type": "code",
      "metadata": {
        "id": "BeDZdqSOiAXA",
        "colab_type": "code",
        "colab": {
          "base_uri": "https://localhost:8080/",
          "height": 34
        },
        "outputId": "2b5a4072-b644-4618-ab38-76c3e0e5ff44"
      },
      "source": [
        "ens_acc = evaluate_n_members(models_SOA, X_test, models_TL, X_res_test, np.argmax(Y_test, axis=1))\n",
        "print(ens_acc)"
      ],
      "execution_count": null,
      "outputs": [
        {
          "output_type": "stream",
          "text": [
            "0.7575926441905824\n"
          ],
          "name": "stdout"
        }
      ]
    },
    {
      "cell_type": "code",
      "metadata": {
        "id": "7yKjgEv5z3fy",
        "colab_type": "code",
        "colab": {}
      },
      "source": [
        "# ens_acc = evaluate_n_members(models_SOA, X_dev, models_TL, X_res_dev, np.argmax(Y_dev, axis=1))\n",
        "# print(ens_acc)"
      ],
      "execution_count": null,
      "outputs": []
    },
    {
      "cell_type": "code",
      "metadata": {
        "id": "L0wbYzu6qYGt",
        "colab_type": "code",
        "colab": {}
      },
      "source": [
        ""
      ],
      "execution_count": null,
      "outputs": []
    }
  ]
}