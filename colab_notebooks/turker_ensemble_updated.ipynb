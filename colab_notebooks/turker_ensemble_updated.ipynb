{
  "nbformat": 4,
  "nbformat_minor": 0,
  "metadata": {
    "accelerator": "GPU",
    "colab": {
      "name": "turker_ensemble_updated.ipynb",
      "provenance": [],
      "collapsed_sections": [],
      "machine_shape": "hm",
      "include_colab_link": true
    },
    "kernelspec": {
      "name": "python3",
      "display_name": "Python 3"
    }
  },
  "cells": [
    {
      "cell_type": "markdown",
      "metadata": {
        "id": "view-in-github",
        "colab_type": "text"
      },
      "source": [
        "<a href=\"https://colab.research.google.com/github/pawan-nandakishore/image_emotion_recognition/blob/master/colab_notebooks/turker_ensemble_updated.ipynb\" target=\"_parent\"><img src=\"https://colab.research.google.com/assets/colab-badge.svg\" alt=\"Open In Colab\"/></a>"
      ]
    },
    {
      "cell_type": "code",
      "metadata": {
        "id": "cVbLZURCveTi",
        "colab_type": "code",
        "colab": {
          "base_uri": "https://localhost:8080/",
          "height": 36
        },
        "outputId": "ed302175-7d3d-42ee-9a64-f4d5580083ff"
      },
      "source": [
        "%tensorflow_version 1.x"
      ],
      "execution_count": 1,
      "outputs": [
        {
          "output_type": "stream",
          "text": [
            "TensorFlow 1.x selected.\n"
          ],
          "name": "stdout"
        }
      ]
    },
    {
      "cell_type": "code",
      "metadata": {
        "colab_type": "code",
        "id": "2nz38mJZXN_P",
        "colab": {
          "base_uri": "https://localhost:8080/",
          "height": 74
        },
        "outputId": "8cd92570-d069-42db-cb8a-5302425960fd"
      },
      "source": [
        "import matplotlib.pyplot as plt\n",
        "import pandas as pd\n",
        "import numpy as np\n",
        "\n",
        "import tensorflow as tf\n",
        "from tensorflow.keras.layers import *\n",
        "from tensorflow.python.lib.io import file_io\n",
        "\n",
        "%matplotlib inline\n",
        "\n",
        "import keras\n",
        "from keras import backend as K\n",
        "from keras.callbacks import ModelCheckpoint, EarlyStopping\n",
        "from keras.models import load_model\n",
        "from keras.preprocessing.image import ImageDataGenerator\n",
        "from keras.utils import plot_model\n",
        "from sklearn.metrics import *\n",
        "from keras.engine import Model\n",
        "from keras.layers import Input, Flatten, Dense, Activation, Conv2D, MaxPool2D, BatchNormalization, Dropout, MaxPooling2D\n",
        "import skimage\n",
        "from skimage.transform import rescale, resize\n",
        "import seaborn as sns \n"
      ],
      "execution_count": 2,
      "outputs": [
        {
          "output_type": "stream",
          "text": [
            "Using TensorFlow backend.\n",
            "/usr/local/lib/python3.6/dist-packages/statsmodels/tools/_testing.py:19: FutureWarning: pandas.util.testing is deprecated. Use the functions in the public API at pandas.testing instead.\n",
            "  import pandas.util.testing as tm\n"
          ],
          "name": "stderr"
        }
      ]
    },
    {
      "cell_type": "code",
      "metadata": {
        "colab_type": "code",
        "id": "EjKPXZ3TX3Jb",
        "colab": {
          "base_uri": "https://localhost:8080/",
          "height": 36
        },
        "outputId": "b6a78378-1cc0-44c1-889d-b0523c63c447"
      },
      "source": [
        "from google.colab import drive\n",
        "drive.mount('/content/drive')"
      ],
      "execution_count": 3,
      "outputs": [
        {
          "output_type": "stream",
          "text": [
            "Drive already mounted at /content/drive; to attempt to forcibly remount, call drive.mount(\"/content/drive\", force_remount=True).\n"
          ],
          "name": "stdout"
        }
      ]
    },
    {
      "cell_type": "code",
      "metadata": {
        "id": "l2DlU8lZeOg7",
        "colab_type": "code",
        "colab": {}
      },
      "source": [
        "Resize_pixelsize = 197\n",
        "labels = {0:'angry', 1:'disgust', 2:'fear', 3:'happy', 4:'sad', 5:'surprise', 6:'neutral'}\n",
        "reverse_labels = {'angry':0, 'disgust':1, 'fear':2, 'happy':3, 'sad':4, 'surprise':5, 'neutral':6}"
      ],
      "execution_count": 4,
      "outputs": []
    },
    {
      "cell_type": "code",
      "metadata": {
        "id": "xSJv4GKReUwb",
        "colab_type": "code",
        "colab": {}
      },
      "source": [
        "# Function that reads the data from the csv file, increases the size of the images and returns the images and their labels\n",
        "    # dataset: Data path\n",
        "def get_data(dataset):\n",
        "    \n",
        "    file_stream = file_io.FileIO(dataset, mode='r')\n",
        "    data = pd.read_csv(file_stream)\n",
        "    data[' pixels'] = data[' pixels'].apply(lambda x: [int(pixel) for pixel in x.split()])\n",
        "    X, Y = data[' pixels'].tolist(), data['emotion'].values\n",
        "    X = np.array(X, dtype='float32').reshape(-1,48,48,1)\n",
        "    X = X/255.0\n",
        "   \n",
        "    X_res = np.zeros((X.shape[0], Resize_pixelsize,Resize_pixelsize,3))\n",
        "    for ind in range(X.shape[0]): \n",
        "        sample = X[ind]\n",
        "        sample = sample.reshape(48, 48)\n",
        "        image_resized = resize(sample, (Resize_pixelsize, Resize_pixelsize), anti_aliasing=True)\n",
        "        X_res[ind,:,:,:] = image_resized.reshape(Resize_pixelsize,Resize_pixelsize,1)\n",
        "\n",
        "    Y_res = np.zeros((Y.size, 7))\n",
        "    Y_res[np.arange(Y.size),Y] = 1    \n",
        "    \n",
        "    return  X, X_res, Y_res"
      ],
      "execution_count": 5,
      "outputs": []
    },
    {
      "cell_type": "code",
      "metadata": {
        "id": "j8FT39NZgDHP",
        "colab_type": "code",
        "colab": {}
      },
      "source": [
        "local_path = \"/content/drive/My Drive/Personal projects/emotion_recognition_paper/data/fer_csv/\"\n",
        "dev_dataset_dir = local_path +\"dev.csv\"\n",
        "test_dataset_dir = local_path + \"test.csv\"\n",
        "\n",
        "X_dev, X_res_dev, Y_dev   = get_data(dev_dataset_dir)\n",
        "X_test, X_res_test, Y_test   = get_data(test_dataset_dir)\n"
      ],
      "execution_count": 6,
      "outputs": []
    },
    {
      "cell_type": "code",
      "metadata": {
        "id": "XmmvoAzOgQl4",
        "colab_type": "code",
        "colab": {
          "base_uri": "https://localhost:8080/",
          "height": 170
        },
        "outputId": "909a2a63-0d11-40a8-e94f-7bc7b7ba471c"
      },
      "source": [
        "model = load_model('/content/drive/My Drive//Personal projects/emotion_recognition_paper/cs230 project/models/soa-SGD_LR_0.01000-EPOCHS_300-BS_128-DROPOUT_0.3test_acc_0.663.h5')"
      ],
      "execution_count": 7,
      "outputs": [
        {
          "output_type": "stream",
          "text": [
            "WARNING:tensorflow:From /tensorflow-1.15.2/python3.6/tensorflow_core/python/ops/resource_variable_ops.py:1630: calling BaseResourceVariable.__init__ (from tensorflow.python.ops.resource_variable_ops) with constraint is deprecated and will be removed in a future version.\n",
            "Instructions for updating:\n",
            "If using Keras pass *_constraint arguments to layers.\n",
            "WARNING:tensorflow:From /tensorflow-1.15.2/python3.6/keras/backend/tensorflow_backend.py:4070: The name tf.nn.max_pool is deprecated. Please use tf.nn.max_pool2d instead.\n",
            "\n",
            "WARNING:tensorflow:From /tensorflow-1.15.2/python3.6/keras/backend/tensorflow_backend.py:422: The name tf.global_variables is deprecated. Please use tf.compat.v1.global_variables instead.\n",
            "\n"
          ],
          "name": "stdout"
        }
      ]
    },
    {
      "cell_type": "code",
      "metadata": {
        "id": "ABbKc8-Eq64L",
        "colab_type": "code",
        "colab": {
          "base_uri": "https://localhost:8080/",
          "height": 169
        },
        "outputId": "23aa577a-8eba-4e02-8b95-590b8d3d1d54"
      },
      "source": [
        "print('\\n# Evaluate on dev data')\n",
        "results_dev = model.evaluate(X_dev,Y_dev)\n",
        "print('dev loss, dev acc:', results_dev)\n",
        "\n",
        "print('\\n# Evaluate on test data')\n",
        "results_test = model.evaluate(X_test,Y_test)\n",
        "print('test loss, test acc:', results_test)"
      ],
      "execution_count": 8,
      "outputs": [
        {
          "output_type": "stream",
          "text": [
            "\n",
            "# Evaluate on dev data\n",
            "3589/3589 [==============================] - 2s 530us/step\n",
            "dev loss, dev acc: [1.0376123519088605, 0.6363889575004578]\n",
            "\n",
            "# Evaluate on test data\n",
            "3589/3589 [==============================] - 0s 84us/step\n",
            "test loss, test acc: [0.9683621032020779, 0.6631373763084412]\n"
          ],
          "name": "stdout"
        }
      ]
    },
    {
      "cell_type": "code",
      "metadata": {
        "id": "ED86bdWtpdCL",
        "colab_type": "code",
        "colab": {
          "base_uri": "https://localhost:8080/",
          "height": 169
        },
        "outputId": "aa0621d3-4e5b-44b5-d750-793131b88f40"
      },
      "source": [
        "model2 = load_model('/content/drive/My Drive/Personal projects/emotion_recognition_paper/cs230 project/models/soa-SGD_LR_0.01000-EPOCHS_300-BS_128-DROPOUT_0.4test_acc_0.657.h5')\n",
        "print('\\n# Evaluate on dev data')\n",
        "results_dev = model2.evaluate(X_dev,Y_dev)\n",
        "print('dev loss, dev acc:', results_dev)\n",
        "\n",
        "print('\\n# Evaluate on test data')\n",
        "results_test = model2.evaluate(X_test,Y_test)\n",
        "print('test loss, test acc:', results_test)"
      ],
      "execution_count": 9,
      "outputs": [
        {
          "output_type": "stream",
          "text": [
            "\n",
            "# Evaluate on dev data\n",
            "3589/3589 [==============================] - 0s 102us/step\n",
            "dev loss, dev acc: [1.0297002102146908, 0.6514349579811096]\n",
            "\n",
            "# Evaluate on test data\n",
            "3589/3589 [==============================] - 0s 82us/step\n",
            "test loss, test acc: [0.9837394588403497, 0.6567289233207703]\n"
          ],
          "name": "stdout"
        }
      ]
    },
    {
      "cell_type": "code",
      "metadata": {
        "id": "Wtkh5xsNvbBG",
        "colab_type": "code",
        "colab": {
          "base_uri": "https://localhost:8080/",
          "height": 207
        },
        "outputId": "a2bbda43-5400-46f6-bddc-a2f140a99e5d"
      },
      "source": [
        "Resnet_model = load_model('/content/drive/My Drive/Personal projects/emotion_recognition_paper/cs230 project/models/tl/ResNet-BEST-73.2.h5')\n",
        "print('\\n# Evaluate on dev data')\n",
        "results_dev = Resnet_model.evaluate(X_res_dev,Y_dev)\n",
        "print('dev loss, dev acc:', results_dev)\n",
        "\n",
        "print('\\n# Evaluate on test data')\n",
        "results_test = Resnet_model.evaluate(X_res_test,Y_test)\n",
        "print('test loss, test acc:', results_test)"
      ],
      "execution_count": 10,
      "outputs": [
        {
          "output_type": "stream",
          "text": [
            "WARNING:tensorflow:From /tensorflow-1.15.2/python3.6/keras/backend/tensorflow_backend.py:4074: The name tf.nn.avg_pool is deprecated. Please use tf.nn.avg_pool2d instead.\n",
            "\n",
            "\n",
            "# Evaluate on dev data\n",
            "3589/3589 [==============================] - 9s 2ms/step\n",
            "dev loss, dev acc: [1.0430927035469104, 0.6960155963897705]\n",
            "\n",
            "# Evaluate on test data\n",
            "3589/3589 [==============================] - 8s 2ms/step\n",
            "test loss, test acc: [0.9163703466730551, 0.7322373986244202]\n"
          ],
          "name": "stdout"
        }
      ]
    },
    {
      "cell_type": "code",
      "metadata": {
        "id": "7fNpbezx0lek",
        "colab_type": "code",
        "colab": {
          "base_uri": "https://localhost:8080/",
          "height": 169
        },
        "outputId": "74797c81-baba-478b-97b7-942227476b84"
      },
      "source": [
        "Resnet_model_wcw = load_model('/content/drive/My Drive/Personal projects/emotion_recognition_paper/cs230 project/models/tl/ResNet-BEST-WCW-0.677.h5')\n",
        "print('\\n# Evaluate on dev data')\n",
        "results_dev = Resnet_model_wcw.evaluate(X_res_dev,Y_dev)\n",
        "print('dev loss, dev acc:', results_dev)\n",
        "\n",
        "print('\\n# Evaluate on test data')\n",
        "results_test = Resnet_model_wcw.evaluate(X_res_test,Y_test)\n",
        "print('test loss, test acc:', results_test)"
      ],
      "execution_count": 11,
      "outputs": [
        {
          "output_type": "stream",
          "text": [
            "\n",
            "# Evaluate on dev data\n",
            "3589/3589 [==============================] - 9s 2ms/step\n",
            "dev loss, dev acc: [1.234229718145802, 0.669824481010437]\n",
            "\n",
            "# Evaluate on test data\n",
            "3589/3589 [==============================] - 8s 2ms/step\n",
            "test loss, test acc: [1.1438238001128829, 0.676790177822113]\n"
          ],
          "name": "stdout"
        }
      ]
    },
    {
      "cell_type": "code",
      "metadata": {
        "id": "opo1eF3swqme",
        "colab_type": "code",
        "colab": {}
      },
      "source": [
        "# Senet_model = load_model('/content/drive/My Drive/cs230 project/models/tl/SeNet50-BEST-69.8.h5')\n",
        "# print('\\n# Evaluate on dev data')\n",
        "# results_dev = Senet_model.evaluate(X_res_dev,Y_dev)\n",
        "# print('dev loss, dev acc:', results_dev)\n",
        "\n",
        "# print('\\n# Evaluate on test data')\n",
        "# results_test = Senet_model.evaluate(X_res_test,Y_test)\n",
        "# print('test loss, test acc:', results_test)"
      ],
      "execution_count": 12,
      "outputs": []
    },
    {
      "cell_type": "code",
      "metadata": {
        "id": "1bCigzO42FBP",
        "colab_type": "code",
        "colab": {}
      },
      "source": [
        "Senet_model_wcw = load_model('/content/drive/My Drive/Personal projects/emotion_recognition_paper/cs230 project/models/tl/SeNet50-WCW-BEST-68.9.h5')\n",
        "print('\\n# Evaluate on dev data')\n",
        "results_dev = Senet_model_wcw.evaluate(X_res_dev,Y_dev)\n",
        "print('dev loss, dev acc:', results_dev)\n",
        "\n",
        "print('\\n# Evaluate on test data')\n",
        "results_test = Senet_model_wcw.evaluate(X_res_test,Y_test)\n",
        "print('test loss, test acc:', results_test)"
      ],
      "execution_count": null,
      "outputs": []
    },
    {
      "cell_type": "code",
      "metadata": {
        "id": "WDEz8VZ3CfGO",
        "colab_type": "code",
        "colab": {}
      },
      "source": [
        "# VGG100_model = load_model('/content/drive/My Drive/cs230 project/models/tl/VGG-BEST-69.5.h5')\n",
        "# print('\\n# Evaluate on dev data')\n",
        "# results_dev = VGG100_model.evaluate(X_res_dev,Y_dev)\n",
        "# print('dev loss, dev acc:', results_dev)\n",
        "\n",
        "# print('\\n# Evaluate on test data')\n",
        "# results_test = VGG100_model.evaluate(X_res_test,Y_test)\n",
        "# print('test loss, test acc:', results_test)"
      ],
      "execution_count": null,
      "outputs": []
    },
    {
      "cell_type": "code",
      "metadata": {
        "id": "W5gbMaNNEke3",
        "colab_type": "code",
        "colab": {}
      },
      "source": [
        "# VGG100_model_wcw = load_model(\"/content/drive/My Drive/cs230 project/models/tl/vgg100-WCW-BEST-70.h5\")\n",
        "# print('\\n# Evaluate on dev data')\n",
        "# results_dev = VGG100_model_wcw.evaluate(X_res_dev,Y_dev)\n",
        "# print('dev loss, dev acc:', results_dev)\n",
        "\n",
        "# print('\\n# Evaluate on test data')\n",
        "# results_test = VGG100_model_wcw.evaluate(X_res_test,Y_test)\n",
        "# print('test loss, test acc:', results_test)"
      ],
      "execution_count": null,
      "outputs": []
    },
    {
      "cell_type": "code",
      "metadata": {
        "id": "kGWp8hPnASEr",
        "colab_type": "code",
        "colab": {}
      },
      "source": [
        "Resnet_Aux_model = load_model(\"/content/drive/My Drive/Personal projects/emotion_recognition_paper/cs230 project/models/auxiliary/RESNET50-AUX-BEST-72.7.h5\")\n",
        "print('\\n# Evaluate on dev data')\n",
        "results_dev = Resnet_Aux_model.evaluate(X_res_dev,Y_dev)\n",
        "print('dev loss, dev acc:', results_dev)\n",
        "\n",
        "print('\\n# Evaluate on test data')\n",
        "results_test = Resnet_Aux_model.evaluate(X_res_test,Y_test)\n",
        "print('test loss, test acc:', results_test)"
      ],
      "execution_count": null,
      "outputs": []
    },
    {
      "cell_type": "code",
      "metadata": {
        "id": "7hGURVemBtGU",
        "colab_type": "code",
        "colab": {}
      },
      "source": [
        "Resnet_Aux_model_wcw = load_model(\"/content/drive/My Drive/Personal projects/emotion_recognition_paper/cs230 project/models/auxiliary/RESNET50-WCW-AUX-BEST-72.4.h5\")\n",
        "print('\\n# Evaluate on dev data')\n",
        "results_dev = Resnet_Aux_model_wcw.evaluate(X_res_dev,Y_dev)\n",
        "print('dev loss, dev acc:', results_dev)\n",
        "\n",
        "print('\\n# Evaluate on test data')\n",
        "results_test = Resnet_Aux_model_wcw.evaluate(X_res_test,Y_test)\n",
        "print('test loss, test acc:', results_test)"
      ],
      "execution_count": null,
      "outputs": []
    },
    {
      "cell_type": "code",
      "metadata": {
        "id": "CQVpy32x_yoV",
        "colab_type": "code",
        "colab": {}
      },
      "source": [
        "Senet_Aux_model = load_model('/content/drive/My Drive/Personal projects/emotion_recognition_paper/cs230 project/models/auxiliary/SENET50-AUX-BEST-72.5.h5')\n",
        "print('\\n# Evaluate on dev data')\n",
        "results_dev = Senet_Aux_model.evaluate(X_res_dev,Y_dev)\n",
        "print('dev loss, dev acc:', results_dev)\n",
        "\n",
        "print('\\n# Evaluate on test data')\n",
        "results_test = Senet_Aux_model.evaluate(X_res_test,Y_test)\n",
        "print('test loss, test acc:', results_test)"
      ],
      "execution_count": null,
      "outputs": []
    },
    {
      "cell_type": "code",
      "metadata": {
        "id": "G9WhAotjUoa7",
        "colab_type": "code",
        "colab": {}
      },
      "source": [
        "Senet_Aux_model_wcw = load_model('/content/drive/My Drive/Personal projects/emotion_recognition_paper/cs230 project/models/auxiliary/SENET50-WCW-AUX-BEST-71.6.h5')\n",
        "print('\\n# Evaluate on dev data')\n",
        "results_dev = Senet_Aux_model_wcw.evaluate(X_res_dev,Y_dev)\n",
        "print('dev loss, dev acc:', results_dev)\n",
        "\n",
        "print('\\n# Evaluate on test data')\n",
        "results_test = Senet_Aux_model_wcw.evaluate(X_res_test,Y_test)\n",
        "print('test loss, test acc:', results_test)"
      ],
      "execution_count": null,
      "outputs": []
    },
    {
      "cell_type": "code",
      "metadata": {
        "id": "voByce__QNLw",
        "colab_type": "code",
        "colab": {}
      },
      "source": [
        "# !ls \"/content/drive/My Drive/Personal projects/emotion_recognition_paper/cs230 project/models/final/\""
      ],
      "execution_count": null,
      "outputs": []
    },
    {
      "cell_type": "code",
      "metadata": {
        "id": "lfsWIXEbP1Mv",
        "colab_type": "code",
        "colab": {}
      },
      "source": [
        "VGG_Aux_model = load_model(\"/content/drive/My Drive/Personal projects/emotion_recognition_paper/cs230 project/models/auxiliary/VGG16-AUX-BEST-70.2.h5\")\n",
        "print('\\n# Evaluate on dev data')\n",
        "results_dev = VGG_Aux_model.evaluate(X_res_dev,Y_dev)\n",
        "print('dev loss, dev acc:', results_dev)\n",
        "\n",
        "print('\\n# Evaluate on test data')\n",
        "results_test = VGG_Aux_model.evaluate(X_res_test,Y_test)\n",
        "print('test loss, test acc:', results_test)\n"
      ],
      "execution_count": null,
      "outputs": []
    },
    {
      "cell_type": "code",
      "metadata": {
        "id": "bkG2Ff2ep-R3",
        "colab_type": "code",
        "colab": {}
      },
      "source": [
        "models_SOA = [model, model2]\n",
        "models_TL = [Resnet_model, Resnet_Aux_model_wcw, Senet_Aux_model, Senet_Aux_model_wcw, VGG_Aux_model]"
      ],
      "execution_count": null,
      "outputs": []
    },
    {
      "cell_type": "code",
      "metadata": {
        "id": "EJqnQzpmpHBN",
        "colab_type": "code",
        "colab": {}
      },
      "source": [
        "# make an ensemble prediction for multi-class classification\n",
        "def ensemble_predictions(models_SOA, testX, models_TL, testresX):\n",
        "  # make predictions\n",
        "  yhats = np.zeros((len(models_SOA)+len(models_TL),testX.shape[0],7))\n",
        "\n",
        "  for model_ind in range(len(models_SOA)):\n",
        "    yhat = models_SOA[model_ind].predict(testX)\n",
        "    yhats[model_ind,:,:] = yhat\n",
        "\n",
        "  for model_ind in range(len(models_TL)):\n",
        "    yhat = models_TL[model_ind].predict(testresX)\n",
        "    yhats[len(models_SOA)+model_ind,:,:] = yhat\n",
        "\n",
        "  summed = np.sum(yhats, axis=0)\n",
        "  result = np.argmax(summed, axis=1)\n",
        "  return result\n",
        " \n",
        "# evaluate a specific number of members in an ensemble\n",
        "def evaluate_n_members(models_SOA, testX, models_TL, testresX, testy):\n",
        "\t# select a subset of members\n",
        "\t#subset = members[:n_members]\n",
        "\t#print(len(subset))\n",
        "\t# make prediction\n",
        "\tyhat = ensemble_predictions(models_SOA, testX, models_TL, testresX)\n",
        "\t# calculate accuracy\n",
        "\treturn accuracy_score(testy, yhat)"
      ],
      "execution_count": null,
      "outputs": []
    },
    {
      "cell_type": "code",
      "metadata": {
        "id": "BeDZdqSOiAXA",
        "colab_type": "code",
        "colab": {}
      },
      "source": [
        "ens_acc = evaluate_n_members(models_SOA, X_test, models_TL, X_res_test, np.argmax(Y_test, axis=1))\n",
        "print(ens_acc)"
      ],
      "execution_count": null,
      "outputs": []
    },
    {
      "cell_type": "code",
      "metadata": {
        "id": "7yKjgEv5z3fy",
        "colab_type": "code",
        "colab": {}
      },
      "source": [
        "# adding confusion matrix here \n",
        "yhats = np.zeros((len(models_TL), X_test.shape[0], 7))\n",
        "y_test = np.argmax(Y_test, axis=1)\n",
        "for model_ind in range(len(models_TL)):\n",
        "    yhat = models_TL[model_ind].predict(X_res_test)\n",
        "    yhats[model_ind,:,:] = yhat\n",
        "\n",
        "summed = np.sum(yhats, axis=0)\n",
        "ypred = np.argmax(summed, axis=1)\n"
      ],
      "execution_count": null,
      "outputs": []
    },
    {
      "cell_type": "code",
      "metadata": {
        "id": "L0wbYzu6qYGt",
        "colab_type": "code",
        "colab": {}
      },
      "source": [
        "# conf_matrix = confusion_matrix(testresY, yhats) \n",
        "accuracy_score(y_test, ypred)"
      ],
      "execution_count": null,
      "outputs": []
    },
    {
      "cell_type": "code",
      "metadata": {
        "id": "M-MW9HhH4Mef",
        "colab_type": "code",
        "colab": {}
      },
      "source": [
        "sns.heatmap(confusion_matrix(y_test, ypred), cmap='gnuplot')\n",
        "plt.show()"
      ],
      "execution_count": null,
      "outputs": []
    },
    {
      "cell_type": "code",
      "metadata": {
        "id": "T1kEL6pA4gk4",
        "colab_type": "code",
        "colab": {}
      },
      "source": [
        "testX = X_test\n",
        "testresX = X_res_test\n",
        "yhats = np.zeros((len(models_SOA)+len(models_TL),testX.shape[0],7))\n",
        "\n",
        "for model_ind in range(len(models_SOA)):\n",
        "    yhat = models_SOA[model_ind].predict(testX)\n",
        "    yhats[model_ind,:,:] = yhat\n",
        "\n",
        "for model_ind in range(len(models_TL)):\n",
        "    yhat = models_TL[model_ind].predict(testresX)\n",
        "    yhats[len(models_SOA)+model_ind,:,:] = yhat\n",
        "\n",
        "summed = np.sum(yhats, axis=0)\n",
        "ypred = np.argmax(summed, axis=1)"
      ],
      "execution_count": null,
      "outputs": []
    },
    {
      "cell_type": "code",
      "metadata": {
        "id": "Ae_6TWZr47Ie",
        "colab_type": "code",
        "colab": {}
      },
      "source": [
        "# original accucary\n",
        "print(\"original accuracy: {}\".format(accuracy_score(ypred, y_test)))"
      ],
      "execution_count": null,
      "outputs": []
    },
    {
      "cell_type": "code",
      "metadata": {
        "id": "PKgh2kOj5Xep",
        "colab_type": "code",
        "colab": {}
      },
      "source": [
        "fig= sns.heatmap(confusion_matrix(y_test, ypred, normalize='true'), cmap='gnuplot')\n",
        "fig.set_xticklabels(list(labels.values()))\n",
        "fig.set_yticklabels(list(labels.values()))\n",
        "plt.setp(fig.get_xticklabels(), rotation=45, ha=\"right\",\n",
        "         rotation_mode=\"anchor\")\n",
        "plt.setp(fig.get_yticklabels(), rotation=0, ha=\"right\",\n",
        "         rotation_mode=\"anchor\")\n",
        "plt.show()"
      ],
      "execution_count": null,
      "outputs": []
    },
    {
      "cell_type": "code",
      "metadata": {
        "id": "H7TGzKFY5t7E",
        "colab_type": "code",
        "colab": {}
      },
      "source": [
        "# actual values of the confusion matrix\n",
        "confusion_matrix(y_test, ypred, normalize='true')"
      ],
      "execution_count": null,
      "outputs": []
    },
    {
      "cell_type": "markdown",
      "metadata": {
        "id": "-AbAgNdEn0XS",
        "colab_type": "text"
      },
      "source": [
        "# Top three models"
      ]
    },
    {
      "cell_type": "code",
      "metadata": {
        "id": "XxTz77ibn3xb",
        "colab_type": "code",
        "colab": {}
      },
      "source": [
        "acc_per_model = {'model1':0,\n",
        "                 'model2': 0,\n",
        "                 'Resnet_model': 0, \n",
        "                 'Resnet_Aux_model_wcw':0 , \n",
        "                 'Senet_Aux_model': 0, \n",
        "                 'Senet_Aux_model_wcw': 0, \n",
        "                 'VGG_Aux_model':0 }\n",
        "\n",
        "all_models = [model, model2, Resnet_model, Resnet_Aux_model_wcw, Senet_Aux_model, Senet_Aux_model_wcw, VGG_Aux_model]\n",
        "for model_ind, model_name in enumerate(all_models):\n",
        "    if model_ind <=1 : \n",
        "      test_x = testX \n",
        "    else: \n",
        "      test_x = testresX\n",
        "\n",
        "    yhat = all_models[model_ind].predict(test_x)\n",
        "    key_list = list(acc_per_model.keys())\n",
        "    acc_per_model[key_list[model_ind]] = accuracy_score(np.argmax(yhat, axis=1), y_test)\n",
        "    yhats[model_ind, :, :] =  yhat\n",
        "    \n",
        "summed = np.sum(yhats, axis=0)\n",
        "ypred = np.argmax(summed, axis=1)\n",
        "accuracy_score(ypred, y_test)"
      ],
      "execution_count": null,
      "outputs": []
    },
    {
      "cell_type": "code",
      "metadata": {
        "id": "O8g5Afhqn5Me",
        "colab_type": "code",
        "colab": {}
      },
      "source": [
        "acc_per_model"
      ],
      "execution_count": null,
      "outputs": []
    },
    {
      "cell_type": "markdown",
      "metadata": {
        "id": "4ckKfsgCwfDx",
        "colab_type": "text"
      },
      "source": [
        "So the max accuracy is for three models which are: \n",
        "\n",
        "\n",
        "* Resnet_Aux_model_wcw': 0.7227640011145166,\n",
        "\n",
        "* 'Resnet_model': 0.7322373920312064,\n",
        "\n",
        "* 'Senet_Aux_model': 0.721928113680691,\n",
        "\n",
        "\n",
        "so lets see what happens when you ensemble three of them\n",
        "\n",
        "\n",
        " \n"
      ]
    },
    {
      "cell_type": "code",
      "metadata": {
        "id": "KeloLV8Gw9dh",
        "colab_type": "code",
        "colab": {}
      },
      "source": [
        "yhats = np.zeros((len(models_TL),testX.shape[0],7))\n",
        "acc_per_model2 = {\n",
        "                 'Resnet_model': 0, \n",
        "                 'Resnet_Aux_model_wcw':0 , \n",
        "                 'Senet_Aux_model': 0, \n",
        "                 'Senet_Aux_model_wcw': 0, \n",
        "                 'VGG_Aux_model':0 }\n",
        "all_models = [ Resnet_model, Resnet_Aux_model_wcw, Senet_Aux_model, Senet_Aux_model_wcw, VGG_Aux_model]\n",
        "for model_ind, model_name in enumerate(all_models):\n",
        "\n",
        "    test_x = testresX\n",
        "    yhat = all_models[model_ind].predict(test_x)\n",
        "    key_list = list(acc_per_model2.keys())\n",
        "    acc_per_model[key_list[model_ind]] = accuracy_score(np.argmax(yhat, axis=1), y_test)\n",
        "    yhats[model_ind, :, :] =  yhat\n",
        "    \n",
        "summed = np.sum(yhats, axis=0)\n",
        "ypred = np.argmax(summed, axis=1)\n",
        "accuracy_score(ypred, y_test)"
      ],
      "execution_count": null,
      "outputs": []
    },
    {
      "cell_type": "code",
      "metadata": {
        "id": "IMaJrLRpxhnI",
        "colab_type": "code",
        "colab": {}
      },
      "source": [
        ""
      ],
      "execution_count": null,
      "outputs": []
    },
    {
      "cell_type": "markdown",
      "metadata": {
        "id": "Rl7PVYPcn6Xp",
        "colab_type": "text"
      },
      "source": [
        "# Data augmentation and Retraining a single model\n",
        " "
      ]
    },
    {
      "cell_type": "code",
      "metadata": {
        "id": "NP4__37wn5An",
        "colab_type": "code",
        "colab": {}
      },
      "source": [
        ""
      ],
      "execution_count": null,
      "outputs": []
    }
  ]
}